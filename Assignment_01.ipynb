{
  "nbformat": 4,
  "nbformat_minor": 0,
  "metadata": {
    "colab": {
      "name": "Assignment_01",
      "provenance": [],
      "collapsed_sections": [],
      "authorship_tag": "ABX9TyOzM9ss73l4+/ij4i86xdMk",
      "include_colab_link": true
    },
    "kernelspec": {
      "name": "python3",
      "display_name": "Python 3"
    },
    "language_info": {
      "name": "python"
    }
  },
  "cells": [
    {
      "cell_type": "markdown",
      "metadata": {
        "id": "view-in-github",
        "colab_type": "text"
      },
      "source": [
        "<a href=\"https://colab.research.google.com/github/WhiteWolf088/Python_Assignments/blob/main/Assignment_01.ipynb\" target=\"_parent\"><img src=\"https://colab.research.google.com/assets/colab-badge.svg\" alt=\"Open In Colab\"/></a>"
      ]
    },
    {
      "cell_type": "markdown",
      "metadata": {
        "id": "FHyraJ0ReeZu"
      },
      "source": [
        "## **Question 01 :**"
      ]
    },
    {
      "cell_type": "markdown",
      "metadata": {
        "id": "MUNgtsb-KDel"
      },
      "source": [
        "### --> Write the Python Script to Conctenate the following dictionaries to create a New One"
      ]
    },
    {
      "cell_type": "code",
      "metadata": {
        "colab": {
          "base_uri": "https://localhost:8080/"
        },
        "id": "o7IiokmlfKUS",
        "outputId": "9cfe452d-43f6-4273-b84c-e19c4c4c5b0a"
      },
      "source": [
        "dic1={1:10,2:20}\n",
        "dic2={3:30,4:40}\n",
        "dic3={5:50,6:60}\n",
        "dic1,dic2,dic3"
      ],
      "execution_count": 3,
      "outputs": [
        {
          "output_type": "execute_result",
          "data": {
            "text/plain": [
              "({1: 10, 2: 20}, {3: 30, 4: 40}, {5: 50, 6: 60})"
            ]
          },
          "metadata": {},
          "execution_count": 3
        }
      ]
    },
    {
      "cell_type": "code",
      "metadata": {
        "colab": {
          "base_uri": "https://localhost:8080/"
        },
        "id": "1w_9ntPnff-D",
        "outputId": "adb544a7-605b-48ca-8033-bd131cb648e4"
      },
      "source": [
        "Var={**dic1,**dic2,**dic3}   # Unpacking Dictionaries\n",
        "Var"
      ],
      "execution_count": 4,
      "outputs": [
        {
          "output_type": "execute_result",
          "data": {
            "text/plain": [
              "{1: 10, 2: 20, 3: 30, 4: 40, 5: 50, 6: 60}"
            ]
          },
          "metadata": {},
          "execution_count": 4
        }
      ]
    },
    {
      "cell_type": "markdown",
      "metadata": {
        "id": "JCE3bxUDZZZ7"
      },
      "source": [
        "## **Question 02 :** \n",
        "\n",
        "\n"
      ]
    },
    {
      "cell_type": "markdown",
      "metadata": {
        "id": "mj-9cJynKQOO"
      },
      "source": [
        "### --> Write a Python  Script to check if a given key already  exists in a Dictionary"
      ]
    },
    {
      "cell_type": "code",
      "metadata": {
        "colab": {
          "base_uri": "https://localhost:8080/"
        },
        "id": "oOL2XqUsfAUs",
        "outputId": "ee1df2c3-6bf4-456e-b15d-d12c51fbe849"
      },
      "source": [
        "# Taking a Dictionary\n",
        "D={1:15,5:20,6:45,2:11,3:40}\n",
        "A=int(input(\"Enter the Key to Search  : \"))\n",
        "for key,val in D.items():\n",
        "    if key==A:\n",
        "        print(\"The key already Present in the Dictionary \")\n",
        "        break\n",
        "else:\n",
        "    print(\"The key doesn't Exist in the Dictionary \")"
      ],
      "execution_count": 5,
      "outputs": [
        {
          "output_type": "stream",
          "name": "stdout",
          "text": [
            "Enter the Key to Search  : 2\n",
            "The key already Present in the Dictionary \n"
          ]
        }
      ]
    },
    {
      "cell_type": "markdown",
      "metadata": {
        "id": "a9R9A63GgEYJ"
      },
      "source": [
        "## **Question 03 :** "
      ]
    },
    {
      "cell_type": "markdown",
      "metadata": {
        "id": "g9H8DqYAKYN2"
      },
      "source": [
        "### --> Write a Python Script to print the Dictionary where keys are the numbers between 1 to 15(both included) and the values are the squares of the Keys."
      ]
    },
    {
      "cell_type": "code",
      "metadata": {
        "colab": {
          "base_uri": "https://localhost:8080/"
        },
        "id": "Vted3bRCZLji",
        "outputId": "41307174-401e-41e0-fcd5-bb1cab878369"
      },
      "source": [
        "A=[] # Empty List for Keys in the Dictionary\n",
        "for a in range(0,16):\n",
        "  A.append(a)\n",
        "B=[] # Empty list for Values in the Dictionary\n",
        "for b in range(1,16):\n",
        "  B.append(b*b)\n",
        "print(\"Keys For the Dictionary-->\",A)\n",
        "print(\"Values For the Dictionary-->\",B)\n",
        "C=dict(zip(A,B))\n",
        "print(\"Final Dictionary is-->\",C)"
      ],
      "execution_count": 6,
      "outputs": [
        {
          "output_type": "stream",
          "name": "stdout",
          "text": [
            "Keys For the Dictionary--> [0, 1, 2, 3, 4, 5, 6, 7, 8, 9, 10, 11, 12, 13, 14, 15]\n",
            "Values For the Dictionary--> [1, 4, 9, 16, 25, 36, 49, 64, 81, 100, 121, 144, 169, 196, 225]\n",
            "Final Dictionary is--> {0: 1, 1: 4, 2: 9, 3: 16, 4: 25, 5: 36, 6: 49, 7: 64, 8: 81, 9: 100, 10: 121, 11: 144, 12: 169, 13: 196, 14: 225}\n"
          ]
        }
      ]
    },
    {
      "cell_type": "markdown",
      "metadata": {
        "id": "3IFOr4mJieIt"
      },
      "source": [
        "## **Question 04 :**"
      ]
    },
    {
      "cell_type": "markdown",
      "metadata": {
        "id": "7QbwXYsXKfch"
      },
      "source": [
        "### --> Write the Python Program to remove the Duplicates from Dictionary"
      ]
    },
    {
      "cell_type": "code",
      "metadata": {
        "colab": {
          "base_uri": "https://localhost:8080/"
        },
        "id": "XEvvLeHWhrr-",
        "outputId": "e462aea7-ebea-4636-9e87-5ed3db038bc4"
      },
      "source": [
        "A={1:10,2:14,3:30,4:11,5:25,6:3,7:49,3:30,1:10,4:11,8:68,9:99,2:14,4:11}\n",
        "temp=[]\n",
        "res= dict ()\n",
        "\n",
        "for key,val in A.items():\n",
        "    if val not in temp:\n",
        "        temp.append(val)\n",
        "        res[key]=val\n",
        "\n",
        "print(\"The Dictionary after removing the Duplicates are : \"+str(res))"
      ],
      "execution_count": 7,
      "outputs": [
        {
          "output_type": "stream",
          "name": "stdout",
          "text": [
            "The Dictionary after removing the Duplicates are : {1: 10, 2: 14, 3: 30, 4: 11, 5: 25, 6: 3, 7: 49, 8: 68, 9: 99}\n"
          ]
        }
      ]
    },
    {
      "cell_type": "markdown",
      "metadata": {
        "id": "2gZVJKWYkpLN"
      },
      "source": [
        "## **Question 05 :**"
      ]
    },
    {
      "cell_type": "markdown",
      "metadata": {
        "id": "ytB776TtKm4w"
      },
      "source": [
        "### --> Write a Python program to create and display all Combinations of letters, Selecting each letter from a different key in a dictionary."
      ]
    },
    {
      "cell_type": "code",
      "metadata": {
        "id": "QwyNxOKDi7rh",
        "colab": {
          "base_uri": "https://localhost:8080/"
        },
        "outputId": "c93aa2f2-c3be-43a1-c52a-0c7684d095ea"
      },
      "source": [
        "A={'1':['a','b'],'2':['c','d']}\n",
        "for x in A['1']:\n",
        "  for y in A['2']:\n",
        "      print(x + y)"
      ],
      "execution_count": 8,
      "outputs": [
        {
          "output_type": "stream",
          "name": "stdout",
          "text": [
            "ac\n",
            "ad\n",
            "bc\n",
            "bd\n"
          ]
        }
      ]
    }
  ]
}